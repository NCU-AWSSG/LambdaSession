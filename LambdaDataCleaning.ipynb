{
  "nbformat": 4,
  "nbformat_minor": 0,
  "metadata": {
    "colab": {
      "name": "dataCleaning.ipynb",
      "provenance": [],
      "collapsed_sections": [],
      "authorship_tag": "ABX9TyNbGoHIwnhZjk1tthW3Xy9V"
    },
    "kernelspec": {
      "name": "python3",
      "display_name": "Python 3"
    }
  },
  "cells": [
    {
      "cell_type": "code",
      "metadata": {
        "id": "LlaiggNttsrL"
      },
      "source": [
        "import pandas as pd\r\n",
        "import boto3"
      ],
      "execution_count": null,
      "outputs": []
    },
    {
      "cell_type": "code",
      "metadata": {
        "id": "Ep0dnmFgiBeZ"
      },
      "source": [
        "df = pd.read_csv('googleplaystore.csv')\r\n",
        "df.info()"
      ],
      "execution_count": null,
      "outputs": []
    },
    {
      "cell_type": "code",
      "metadata": {
        "id": "T64tPCIge_5T"
      },
      "source": [
        "# Remove no value rows\r\n",
        "df.dropna(inplace=True)\r\n",
        "# Features to be used\r\n",
        "features = ['Rating', 'Reviews', 'Size', 'Installs', 'Type','Category', 'Price', 'Content Rating', 'Genres']\r\n",
        "df = df.loc[:,features]\r\n",
        "df.head()"
      ],
      "execution_count": null,
      "outputs": []
    },
    {
      "cell_type": "code",
      "metadata": {
        "id": "RtXU7nYRfXGI"
      },
      "source": [
        "# Function to convert categorical data\r\n",
        "def convert_category_like(s):\r\n",
        "    temp_dict = {}\r\n",
        "    for i, k in enumerate(s.unique()):\r\n",
        "        temp_dict[k]= i\r\n",
        "    return s.map(temp_dict).astype(int)"
      ],
      "execution_count": 82,
      "outputs": []
    },
    {
      "cell_type": "code",
      "metadata": {
        "id": "i0jBhvvy4Pra"
      },
      "source": [
        "# Convert categorical data\r\n",
        "df['Category_c'] = convert_category_like(df['Category'])\r\n",
        "df['Content Rating'] = convert_category_like(df['Content Rating'])\r\n",
        "df['Genres_c'] = convert_category_like(df['Genres'])"
      ],
      "execution_count": 83,
      "outputs": []
    },
    {
      "cell_type": "code",
      "metadata": {
        "id": "y4XktZv1Ws2g"
      },
      "source": [
        "# Convert string to numeric\r\n",
        "df['Reviews'] = df['Reviews'].astype('int64')\r\n",
        "\r\n",
        "# Function to convert size\r\n",
        "def convert_size(s):\r\n",
        "    if s[-1] == 'M':\r\n",
        "        ans = float(s[:-1])*1000000\r\n",
        "    elif s[-1] == 'k':\r\n",
        "        ans = float(s[:-1])*1000\r\n",
        "    else:\r\n",
        "        ans = None\r\n",
        "    return ans\r\n",
        "df['Size'] = df['Size'].map(convert_size)\r\n",
        "# Some size value is \"Varies with device\", we fill those value with mean groupby categories\r\n",
        "df['Size'] = df.groupby('Category_c')['Size'].transform(lambda x: x.fillna(round(x.mean())))"
      ],
      "execution_count": 84,
      "outputs": []
    },
    {
      "cell_type": "code",
      "metadata": {
        "id": "FkRS3PA1gdqU"
      },
      "source": [
        "# Convert Installs to numeric\r\n",
        "df['Installs'] = df['Installs'].map(lambda x: int(x[:-1].replace(',','')), )\r\n",
        "# Convert Type to binary\r\n",
        "df['Type'] = df['Type'].map(lambda x: 0 if x == 'Free' else 1)\r\n",
        "# Convert Price to numeric\r\n",
        "df['Price'] = df['Price'].map(lambda x: 0 if x == '0' else float(x[1:]))"
      ],
      "execution_count": 85,
      "outputs": []
    }
  ]
}