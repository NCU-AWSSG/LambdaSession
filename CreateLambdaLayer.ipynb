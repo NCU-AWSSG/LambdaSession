{
  "nbformat": 4,
  "nbformat_minor": 0,
  "metadata": {
    "colab": {
      "name": "CreateLambdaLayer.ipynb",
      "provenance": [],
      "collapsed_sections": [],
      "authorship_tag": "ABX9TyN0K2IJfZI7jyznWgOQf69b"
    },
    "kernelspec": {
      "name": "python3",
      "display_name": "Python 3"
    }
  },
  "cells": [
    {
      "cell_type": "code",
      "metadata": {
        "id": "GAujZdxXrpAp"
      },
      "source": [
        "!pip install boto3"
      ],
      "execution_count": null,
      "outputs": []
    },
    {
      "cell_type": "code",
      "metadata": {
        "id": "MZUoXfI6rDAh"
      },
      "source": [
        "!mkdir python"
      ],
      "execution_count": null,
      "outputs": []
    },
    {
      "cell_type": "code",
      "metadata": {
        "id": "B3_g_85grLEW"
      },
      "source": [
        "!pip install -t python/ pandas"
      ],
      "execution_count": null,
      "outputs": []
    },
    {
      "cell_type": "code",
      "metadata": {
        "id": "ucuSvRUnrdjK"
      },
      "source": [
        "!zip -r pandas_layer.zip python/"
      ],
      "execution_count": null,
      "outputs": []
    },
    {
      "cell_type": "code",
      "metadata": {
        "id": "lxok8fzain5Y"
      },
      "source": [
        "import boto3\r\n",
        "import os\r\n",
        "import base64"
      ],
      "execution_count": null,
      "outputs": []
    },
    {
      "cell_type": "code",
      "metadata": {
        "id": "rl-6cac4iqIS"
      },
      "source": [
        "# add your credentials here\r\n",
        "os.environ['AWS_ACCESS_KEY_ID'] = \"\"\r\n",
        "os.environ['AWS_SECRET_ACCESS_KEY'] = \"\"\r\n",
        "os.environ['AWS_DEFAULT_REGION'] = \"\""
      ],
      "execution_count": null,
      "outputs": []
    },
    {
      "cell_type": "code",
      "metadata": {
        "id": "ORIpatfPuiN0"
      },
      "source": [
        "# check python version\r\n",
        "!python --version"
      ],
      "execution_count": null,
      "outputs": []
    },
    {
      "cell_type": "code",
      "metadata": {
        "id": "ESWyeOSkvT6D"
      },
      "source": [
        "client = boto3.client('lambda')"
      ],
      "execution_count": null,
      "outputs": []
    },
    {
      "cell_type": "code",
      "metadata": {
        "id": "GrBWUFY5jt1f"
      },
      "source": [
        "with open('/content/pandas_layer.zip', 'rb') as f:\r\n",
        "    blob_file = f.read()\r\n",
        "response = client.publish_layer_version(\r\n",
        "    LayerName='pandas_layer',\r\n",
        "    Content={\r\n",
        "        'ZipFile': blob_file\r\n",
        "    },\r\n",
        "    CompatibleRuntimes=[\r\n",
        "        'python3.6',\r\n",
        "    ],\r\n",
        ")\r\n",
        "print(response)"
      ],
      "execution_count": null,
      "outputs": []
    }
  ]
}